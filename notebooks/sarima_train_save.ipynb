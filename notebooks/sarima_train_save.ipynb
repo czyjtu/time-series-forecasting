{
 "cells": [
  {
   "cell_type": "code",
   "execution_count": 1,
   "metadata": {},
   "outputs": [],
   "source": [
    "from pathlib import Path \n",
    "import sys \n",
    "sys.path.append(str(Path.cwd().parent))"
   ]
  },
  {
   "cell_type": "code",
   "execution_count": 2,
   "metadata": {},
   "outputs": [
    {
     "name": "stderr",
     "output_type": "stream",
     "text": [
      "/home/glegeza/Programming/semestr1/time-series-forecasting/venv10/lib/python3.10/site-packages/tqdm/auto.py:21: TqdmWarning: IProgress not found. Please update jupyter and ipywidgets. See https://ipywidgets.readthedocs.io/en/stable/user_install.html\n",
      "  from .autonotebook import tqdm as notebook_tqdm\n"
     ]
    }
   ],
   "source": [
    "from utils import predictors, data_loading as dl\n",
    "import pickle\n",
    "import time"
   ]
  },
  {
   "cell_type": "code",
   "execution_count": 3,
   "metadata": {},
   "outputs": [],
   "source": [
    "sunspots = dl.DataLoader(dl.DATASET.SUNSPOTS, use_test=True)\n",
    "electricity = dl.DataLoader(dl.DATASET.ELECTRICITY, use_test=True)\n",
    "mackey_glass = dl.DataLoader(dl.DATASET.MACKEY_GLASS, use_test=True)\n",
    "temperature = dl.DataLoader(dl.DATASET.TEMPERATURE, use_test=True)"
   ]
  },
  {
   "cell_type": "code",
   "execution_count": 4,
   "metadata": {},
   "outputs": [
    {
     "name": "stdout",
     "output_type": "stream",
     "text": [
      "DATASET.MACKEY_GLASS\n",
      "(1080,)\n"
     ]
    },
    {
     "name": "stderr",
     "output_type": "stream",
     "text": [
      "/home/glegeza/Programming/semestr1/time-series-forecasting/venv10/lib/python3.10/site-packages/statsmodels/tsa/statespace/sarimax.py:1009: UserWarning: Non-invertible starting seasonal moving average Using zeros as starting parameters.\n",
      "  warn('Non-invertible starting seasonal moving average'\n",
      "/home/glegeza/Programming/semestr1/time-series-forecasting/venv10/lib/python3.10/site-packages/statsmodels/base/model.py:604: ConvergenceWarning: Maximum Likelihood optimization failed to converge. Check mle_retvals\n",
      "  warnings.warn(\"Maximum Likelihood optimization failed to \"\n"
     ]
    },
    {
     "name": "stdout",
     "output_type": "stream",
     "text": [
      "./../models/sarima/mackey_glass#5*0*5#2*0*2*50#1080#1686317552.pkl\n"
     ]
    }
   ],
   "source": [
    "model_name = \"sarima\"\n",
    "\n",
    "datasets = [mackey_glass]#, sunspots, electricity, temperature]\n",
    "sarima_params = {\n",
    "    dl.DATASET.SUNSPOTS: {\n",
    "        \"order\": (5, 0, 5),\n",
    "        \"seasonal_order\": (2, 0, 2, 130),\n",
    "    },\n",
    "    dl.DATASET.ELECTRICITY: {\n",
    "        \"order\": (3, 0, 5),\n",
    "        \"seasonal_order\": (1, 0, 2, 24),\n",
    "    },\n",
    "    dl.DATASET.MACKEY_GLASS: {\n",
    "        \"order\": (5, 0, 5),\n",
    "        \"seasonal_order\": (2, 0, 2, 50),\n",
    "    },\n",
    "    dl.DATASET.TEMPERATURE: {\n",
    "        \"order\": (5, 0, 5),\n",
    "        \"seasonal_order\": (2, 0, 2, 365),\n",
    "    },\n",
    "}\n",
    "\n",
    "for dataset in datasets:\n",
    "    print(dataset.name)\n",
    "    X_train = dataset.y_train_df.y.values\n",
    "    print(X_train.shape)\n",
    "    params = sarima_params[dataset.name]\n",
    "    model = predictors.SARIMAPredictor(**params)\n",
    "    model.fit(X_train)\n",
    "    del X_train\n",
    "    path = model.save(dataset.name)\n",
    "    del model\n",
    "    print(path)"
   ]
  },
  {
   "cell_type": "code",
   "execution_count": null,
   "metadata": {},
   "outputs": [],
   "source": []
  }
 ],
 "metadata": {
  "kernelspec": {
   "display_name": "venv10",
   "language": "python",
   "name": "python3"
  },
  "language_info": {
   "codemirror_mode": {
    "name": "ipython",
    "version": 3
   },
   "file_extension": ".py",
   "mimetype": "text/x-python",
   "name": "python",
   "nbconvert_exporter": "python",
   "pygments_lexer": "ipython3",
   "version": "3.10.10"
  },
  "orig_nbformat": 4
 },
 "nbformat": 4,
 "nbformat_minor": 2
}
